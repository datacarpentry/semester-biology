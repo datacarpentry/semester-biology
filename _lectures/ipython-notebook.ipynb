{
 "metadata": {
  "name": "ipython-notebook"
 }, 
 "nbformat": 2, 
 "worksheets": [
  {
   "cells": [
    {
     "cell_type": "markdown", 
     "source": [
      "IPython Notebooks", 
      "=================", 
      "This is an IPython Notebook. It's basically a system that allows you to easily combine text and code in a single location in the browser. You can modify and execute the code right inside the browser and see what happens.", 
      "", 
      "These notebooks will typically be available in one of two ways", 
      "", 
      "* As a simple webpage that you can't modify for use as a reference. This notebook is available [here](http://nbviewer.ipython.org/urls/github.com/weecology/progbio/raw/master/ipynbs/ipython-notebook.ipynb).", 
      "* As a downloadable file that you can open in your own browser, modify, and execute the code. This notebook is available [here](https://raw.github.com/weecology/progbio/master/ipynbs/ipython-notebook.ipynb)."
     ]
    }, 
    {
     "cell_type": "markdown", 
     "source": [
      "Installing IPython Notebook", 
      "===========================", 
      "If you want to interact directly with notebooks you'll need to install the IPython Notebook system. The easiest way to do this is probably just to install the [Enthought Python Distribution](http://www.enthought.com/products/epd.php), which is free for students and academics. If you're using Ubuntu it can be easily installed using the package manager:", 
      "", 
      "`sudo apt-get install ipython-notebook`"
     ]
    }, 
    {
     "cell_type": "markdown", 
     "source": [
      "Opening a Notebook", 
      "==================", 
      "If you simply want to view a Notebook you can do so by providing a link to that notebook to the, totally awesome, [IPython Notebook Viewer](http://nbviewer.ipython.org/). The primary links to notebooks for this class will all take you directly to a displayed version of the notebook using the viewer.", 
      "", 
      "If you want to open the notebook on your own computer so that you can interact with it:", 
      "", 
      "1. Download the notebook (it should have a ipynb extension)", 
      "2. Open a shell or command prompt (for Windows users just type `cmd` into search box)", 
      "3. Navigate to the directory where the notebook is stored", 
      "4. Enter `ipython notebook` and press Enter", 
      "5. Your browser will open and you can then select the desired notebook", 
      "", 
      "If this doesn't work it probably means that Python hasn't been properly added to your PATH."
     ]
    }, 
    {
     "cell_type": "markdown", 
     "source": [
      "Want to Know More?", 
      "==================", 
      "Go checkout the official [IPython Notebook page](http://ipython.org/ipython-doc/dev/interactive/htmlnotebook.html)."
     ]
    }
   ]
  }
 ]
}