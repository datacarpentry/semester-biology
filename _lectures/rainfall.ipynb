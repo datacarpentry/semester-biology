{
 "metadata": {
  "name": "",
  "signature": "sha256:072a05d5f177ca475ff6dbd312b9f7408e244df9855e0ff3894a27926f241bb6"
 },
 "nbformat": 3,
 "nbformat_minor": 0,
 "worksheets": [
  {
   "cells": [
    {
     "cell_type": "markdown",
     "metadata": {},
     "source": [
      "The Rainfall Problem\n",
      "====================\n",
      "At Yale University in the 1980s, Elliot Soloway gave the same assignment regularly in his Pascal\n",
      "programming class [Soloway et al. 1983]:\n",
      "Write a program that repeatedly reads in positive integers, until it reads the integer 99999. After\n",
      "seeing 99999, it should print out the average.\n",
      "Called \u201cThe Rainfall Problem,\u201d it became one of the most studied problems in the early years\n",
      "of computing education research."
     ]
    },
    {
     "cell_type": "code",
     "collapsed": false,
     "input": [
      "a = raw_input()"
     ],
     "language": "python",
     "metadata": {},
     "outputs": [
      {
       "name": "stdout",
       "output_type": "stream",
       "stream": "stdout",
       "text": [
        "1\n"
       ]
      }
     ],
     "prompt_number": 1
    }
   ],
   "metadata": {}
  }
 ]
}