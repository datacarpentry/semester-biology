{
 "metadata": {
  "name": "requests"
 },
 "nbformat": 3,
 "nbformat_minor": 0,
 "worksheets": [
  {
   "cells": [
    {
     "cell_type": "code",
     "collapsed": false,
     "input": [
      "import requests\n",
      "\n",
      "recent_observations = requests.get(\"http://ebird.org/ws1.1/data/obs/geo/recent?lng=-111.83&lat=41.74&fmt=json\")"
     ],
     "language": "python",
     "metadata": {},
     "outputs": [],
     "prompt_number": 8
    },
    {
     "cell_type": "code",
     "collapsed": false,
     "input": [
      "for observation in recent_observations.json:\n",
      "    print observation['sciName'], observation['howMany']"
     ],
     "language": "python",
     "metadata": {},
     "outputs": [
      {
       "output_type": "stream",
       "stream": "stdout",
       "text": [
        " Larus argentatus 2\n",
        "Zonotrichia leucophrys 25\n",
        "Melospiza melodia 1\n",
        "Phasianus colchicus 1\n",
        "Larus delawarensis 100\n",
        "Agelaius phoeniceus 20\n",
        "Circus cyaneus 1\n",
        "Zenaida macroura 1\n",
        "Anas platyrhynchos 10\n",
        "Passer domesticus 3\n",
        "Sturnus vulgaris 70\n",
        "Corvus corax 1\n",
        "Branta canadensis 30\n",
        "Larus californicus 200\n",
        "Euphagus cyanocephalus 230\n",
        "Spinus tristis 1\n",
        "Accipiter striatus 1\n",
        "Buteo jamaicensis 1\n",
        "Icteridae sp. 4\n",
        "Cistothorus palustris 2\n",
        "Pica hudsonia 6\n",
        "Bucephala albeola 2\n",
        "Podilymbus podiceps 1\n",
        "Fulica americana 7\n",
        "Podiceps nigricollis 2\n",
        "Haliaeetus leucocephalus 1\n",
        "Falco sparverius 2\n",
        "Buteo lagopus 1\n",
        "Larus sp. 4\n",
        "Charadrius vociferus 16\n",
        "Falco columbarius 1\n",
        "Poecile atricapillus 1\n",
        "Streptopelia decaocto 17\n",
        "Myadestes townsendi 1\n",
        "Corvus brachyrhynchos 3\n",
        "Junco hyemalis 2\n",
        "Loxia curvirostra 2\n",
        "Certhia americana 2\n",
        "Haemorhous mexicanus 10\n",
        "Colaptes auratus 5\n",
        "Anas crecca 7\n",
        "Aythya collaris 3\n",
        "Aythya affinis 1\n",
        "Aythya valisineria 2\n",
        "Anas clypeata 3\n",
        "Regulus calendula 1\n",
        "Meleagris gallopavo 50\n",
        "Sitta canadensis 1\n",
        "Aythya americana 5\n",
        "Anas strepera 5\n",
        "Anas americana 7\n",
        "Bucephala clangula 4\n",
        "Anas acuta 1\n",
        "Oxyura jamaicensis 1\n",
        "Spinus psaltria 11\n",
        "Mergus merganser 5\n",
        "Aechmophorus occidentalis 7\n",
        "Ardea herodias 6\n",
        "Megaceryle alcyon 2\n",
        "Bucephala islandica 4\n",
        "Bombycilla garrulus 16\n",
        "Turdus migratorius 1\n",
        "Bombycilla cedrorum 30\n",
        "Picoides pubescens 1\n",
        "Setophaga coronata 15\n",
        "Anas platyrhynchos (Domestic type) 25\n",
        "Lophodytes cucullatus 2\n",
        "Anser anser (Domestic type) 1\n",
        "Poecile gambeli 1\n",
        "Spinus pinus 3\n",
        "Larinae sp. 200\n",
        "Regulus satrapa 1\n",
        "Cinclus mexicanus 1\n",
        "Cygnus columbianus 2\n",
        "Emberizidae sp. (sparrow sp.) 1\n",
        "Mergus serrator 1\n",
        "Sitta carolinensis 1\n",
        "Pipilo maculatus 1\n",
        "Anatinae sp. 129\n",
        "Zonotrichia albicollis 1\n",
        "Rallus limicola 2\n",
        "Lanius excubitor 1\n",
        "Cyanocitta cristata 1\n",
        "Calypte anna 1\n",
        "Callipepla californica 6\n",
        "Megascops kennicottii 1\n",
        "Accipiter cooperii 1\n",
        "Columba livia 25\n",
        "Glaucidium gnoma 1\n",
        "Bombycilla garrulus/cedrorum 40\n",
        "Aythya marila/affinis 2\n",
        "Anthus rubescens 1\n",
        "Podiceps auritus 1\n",
        "Aechmophorus clarkii 1\n",
        "Gavia immer 2\n",
        "Picidae sp. 1\n",
        "Falco sp. (small falcon sp.) 1\n",
        "Bucephala clangula/islandica 5\n",
        "Limnodromus scolopaceus 4\n",
        "Coccothraustes vespertinus 1\n",
        "Accipiter sp. 1\n",
        "Acanthis flammea 1\n",
        "Buteo sp. 3\n",
        "Picoides villosus 1\n",
        "Alectoris chukar 1\n"
       ]
      }
     ],
     "prompt_number": 11
    },
    {
     "cell_type": "code",
     "collapsed": false,
     "input": [
      "for item in response.iter_content():\n",
      "    print item"
     ],
     "language": "python",
     "metadata": {},
     "outputs": [
      {
       "output_type": "stream",
       "stream": "stdout",
       "text": [
        "[{\"comName\":\"Herring Gull\",\"howMany\":2,\"lat\":41.7349738,\"lng\":-111.8745947,\"locID\":\"L387514\",\"locName\":\"Logan Landfill\",\"locationPrivate\":false,\"obsDt\":\"2012-12-01 15:37\",\"obsReviewed\":false,\"obsValid\":true,\"sciName\":\"Larus argentatus\"},{\"comName\":\"White-crowned Sparrow\",\"howMany\":25,\"lat\":41.7349738,\"lng\":-111.8745947,\"locID\":\"L387514\",\"locName\":\"Logan Landfill\",\"locationPrivate\":false,\"obsDt\":\"2012-12-01 15:37\",\"obsReviewed\":false,\"obsValid\":true,\"sciName\":\"Zonotrichia leucophrys\"},{\"comName\":\"Song Sparrow\",\"howMany\":1,\"lat\":41.7349738,\"lng\":-111.8745947,\"locID\":\"L387514\",\"locName\":\"Logan Landfill\",\"locationPrivate\":false,\"obsDt\":\"2012-12-01 15:37\",\"obsReviewed\":false,\"obsValid\":true,\"sciName\":\"Melospiza melodia\"},{\"comName\":\"Ring-necked Pheasant\",\"howMany\":1,\"lat\":41.7349738,\"lng\":-111.8745947,\"locID\":\"L387514\",\"locName\":\"Logan Landfill\",\"locationPrivate\":false,\"obsDt\":\"2012-12-01 15:37\",\"obsReviewed\":false,\"obsValid\":true,\"sciName\":\"Phasianus colchicus\"},{\"comName\":\"Ring-billed Gull\",\"howMany\":100,\"lat\":41.7349738,\"lng\":-111.8745947,\"locID\":\"L387514\",\"locName\":\"Logan Landfill\",\"locationPrivate\":false,\"obsDt\":\"2012-12-01 15:37\",\"obsReviewed\":false,\"obsValid\":true,\"sciName\":\"Larus delawarensis\"},{\"comName\":\"Red-winged Blackbird\",\"howMany\":20,\"lat\":41.7349738,\"lng\":-111.8745947,\"locID\":\"L387514\",\"locName\":\"Logan Landfill\",\"locationPrivate\":false,\"obsDt\":\"2012-12-01 15:37\",\"obsReviewed\":false,\"obsValid\":true,\"sciName\":\"Agelaius phoeniceus\"},{\"comName\":\"Northern Harrier\",\"howMany\":1,\"lat\":41.7349738,\"lng\":-111.8745947,\"locID\":\"L387514\",\"locName\":\"Logan Landfill\",\"locationPrivate\":false,\"obsDt\":\"2012-12-01 15:37\",\"obsReviewed\":false,\"obsValid\":true,\"sciName\":\"Circus cyaneus\"},{\"comName\":\"Mourning Dove\",\"howMany\":1,\"lat\":41.7349738,\"lng\":-111.8745947,\"locID\":\"L387514\",\"locName\":\"Logan Landfill\",\"locationPrivate\":false,\"obsDt\":\"2012-12-01 15:37\",\"obsReviewed\":false,\"obsValid\":true,\"sciName\":\"Zenaida macroura\"},{\"comName\":\"Mallard\",\"howMany\":10,\"lat\":41.7349738,\"lng\":-111.8745947,\"locID\":\"L387514\",\"locName\":\"Logan Landfill\",\"locationPrivate\":false,\"obsDt\":\"2012-12-01 15:37\",\"obsReviewed\":false,\"obsValid\":true,\"sciName\":\"Anas platyrhynchos\"},{\"comName\":\"House Sparrow\",\"howMany\":3,\"lat\":41.7349738,\"lng\":-111.8745947,\"locID\":\"L387514\",\"locName\":\"Logan Landfill\",\"locationPrivate\":false,\"obsDt\":\"2012-12-01 15:37\",\"obsReviewed\":false,\"obsValid\":true,\"sciName\":\"Passer domesticus\"},{\"comName\":\"European Starling\",\"howMany\":70,\"lat\":41.7349738,\"lng\":-111.8745947,\"locID\":\"L387514\",\"locName\":\"Logan Landfill\",\"locationPrivate\":false,\"obsDt\":\"2012-12-01 15:37\",\"obsReviewed\":false,\"obsValid\":true,\"sciName\":\"Sturnus vulgaris\"},{\"comName\":\"Common Raven\",\"howMany\":1,\"lat\":41.7349738,\"lng\":-111.8745947,\"locID\":\"L387514\",\"locName\":\"Logan Landfill\",\"locationPrivate\":false,\"obsDt\":\"2012-12-01 15:37\",\"obsReviewed\":false,\"obsValid\":true,\"sciName\":\"Corvus corax\"},{\"comName\":\"Canada Goose\",\"howMany\":30,\"lat\":41.7349738,\"lng\":-111.8745947,\"locID\":\"L387514\",\"locName\":\"Logan Landfill\",\"locationPrivate\":false,\"obsDt\":\"2012-12-01 15:37\",\"obsReviewed\":false,\"obsValid\":true,\"sciName\":\"Branta canadensis\"},{\"comName\":\"California Gull\",\"howMany\":200,\"lat\":41.7349738,\"lng\":-111.8745947,\"locID\":\"L387514\",\"locName\":\"Logan Landfill\",\"locationPrivate\":false,\"obsDt\":\"2012-12-01 15:37\",\"obsReviewed\":false,\"obsValid\":true,\"sciName\":\"Larus californicus\"},{\"comName\":\"Brewer's Blackbird\",\"howMany\":230,\"lat\":41.7349738,\"lng\":-111.8745947,\"locID\":\"L387514\",\"locName\":\"Logan Landfill\",\"locationPrivate\":false,\"obsDt\":\"2012-12-01 15:37\",\"obsReviewed\":false,\"obsValid\":true,\"sciName\":\"Euphagus cyanocephalus\"},{\"comName\":\"American Goldfinch\",\"howMany\":1,\"lat\":41.7349738,\"lng\":-111.8745947,\"locID\":\"L387514\",\"locName\":\"Logan Landfill\",\"locationPrivate\":false,\"obsDt\":\"2012-12-01 15:37\",\"obsReviewed\":false,\"obsValid\":true,\"sciName\":\"Spinus tristis\"},{\"comName\":\"Sharp-shinned Hawk\",\"howMany\":1,\"lat\":41.7331644,\"lng\":-111.8284607,\"locID\":\"L1252743\",\"locName\":\"264 E 100 N Logan Utah\",\"locationPrivate\":true,\"obsDt\":\"2012-12-01 15:10\",\"obsReviewed\":false,\"obsValid\":true,\"sciName\":\"Accipiter striatus\"},{\"comName\":\"Red-tailed Hawk\",\"howMany\":1,\"lat\":41.7528413,\"lng\":-111.8640331,\"locID\":\"L1034294\",\"locName\":\"1200 W Fields (Cache Co.)\",\"locationPrivate\":false,\"obsDt\":\"2012-12-01 15:07\",\"obsReviewed\":false,\"obsValid\":true,\"sciName\":\"Buteo jamaicensis\"},{\"comName\":\"blackbird sp.\",\"howMany\":4,\"lat\":41.7528413,\"lng\":-111.8640331,\"locID\":\"L1034294\",\"locName\":\"1200 W Fields (Cache Co.)\",\"locationPrivate\":false,\"obsDt\":\"2012-12-01 15:07\",\"obsReviewed\":false,\"obsValid\":true,\"sciName\":\"Icteridae sp.\"},{\"comName\":\"Marsh Wren\",\"howMany\":2,\"lat\":41.7320355,\"lng\":-111.8809032,\"locID\":\"L586105\",\"locName\":\"Sue's Pond--Logan River Wetlands and Shorebird Playa\",\"locationPrivate\":false,\"obsDt\":\"2012-12-01 15:01\",\"obsReviewed\":false,\"obsValid\":true,\"sciName\":\"Cistothorus palustris\"},{\"comName\":\"Black-billed Magpie\",\"howMany\":6,\"lat\":41.7320355,\"lng\":-111.8809032,\"locID\":\"L586105\",\"locName\":\"Sue's Pond--Logan River Wetlands and Shorebird Playa\",\"locationPrivate\":false,\"obsDt\":\"2012-12-01 15:01\",\"obsReviewed\":false,\"obsValid\":true,\"sciName\":\"Pica hudsonia\"},{\"comName\":\"Bufflehead\",\"howMany\":2,\"lat\":41.7320355,\"lng\":-111.8809032,\"locID\":\"L586105\",\"locName\":\"Sue's Pond--Logan River Wetlands and Shorebird Playa\",\"locationPrivate\":false,\"obsDt\":\"2012-12-01 15:01\",\"obsReviewed\":false,\"obsValid\":true,\"sciName\":\"Bucephala albeola\"},{\"comName\":\"Pied-billed Grebe\",\"howMany\":1,\"lat\":41.7320355,\"lng\":-111.8809032,\"locID\":\"L586105\",\"locName\":\"Sue's Pond--Logan River Wetlands and Shorebird Playa\",\"locationPrivate\":false,\"obsDt\":\"2012-12-01 15:01\",\"obsReviewed\":false,\"obsValid\":true,\"sciName\":\"Podilymbus podiceps\"},{\"comName\":\"American Coot\",\"howMany\":7,\"lat\":41.7320355,\"lng\":-111.8809032,\"locID\":\"L586105\",\"locName\":\"Sue's Pond--Logan River Wetlands and Shorebird Playa\",\"locationPrivate\":false,\"obsDt\":\"2012-12-01 15:01\",\"obsReviewed\":false,\"obsValid\":true,\"sciName\":\"Fulica americana\"},{\"comName\":\"Eared Grebe\",\"howMany\":2,\"lat\":41.7320355,\"lng\":-111.8809032,\"locID\":\"L586105\",\"locName\":\"Sue's Pond--Logan River Wetlands and Shorebird Playa\",\"locationPrivate\":false,\"obsDt\":\"2012-12-01 15:01\",\"obsReviewed\":false,\"obsValid\":true,\"sciName\":\"Podiceps nigricollis\"},{\"comName\":\"Bald Eagle\",\"howMany\":1,\"lat\":41.7519767,\"lng\":-111.8814182,\"locID\":\"L1292195\",\"locName\":\"Cowley Walk-in Access\",\"locationPrivate\":false,\"obsDt\":\"2012-12-01 14:52\",\"obsReviewed\":false,\"obsValid\":true,\"sciName\":\"Haliaeetus leucocephalus\"},{\"comName\":\"American Kestrel\",\"howMany\":2,\"lat\":41.7519767,\"lng\":-111.8814182,\"locID\":\"L1292195\",\"locName\":\"Cowley Walk-in Access\",\"locationPrivate\":false,\"obsDt\":\"2012-12-01 14:52\",\"obsReviewed\":false,\"obsValid\":true,\"sciName\":\"Falco sparverius\"},{\"comName\":\"Rough-legged Hawk\",\"howMany\":1,\"lat\":41.7519767,\"lng\":-111.8814182,\"locID\":\"L1292195\",\"locName\":\"Cowley Walk-in Access\",\"locationPrivate\":false,\"obsDt\":\"2012-12-01 14:52\",\"obsReviewed\":false,\"obsValid\":true,\"sciName\":\"Buteo lagopus\"},{\"comName\":\"Larus sp.\",\"howMany\":4,\"lat\":41.7519767,\"lng\":-111.8814182,\"locID\":\"L1292195\",\"locName\":\"Cowley Walk-in Access\",\"locationPrivate\":false,\"obsDt\":\"2012-12-01 14:52\",\"obsReviewed\":false,\"obsValid\":true,\"sciName\":\"Larus sp.\"},{\"comName\":\"Killdeer\",\"howMany\":16,\"lat\":41.7519767,\"lng\":-111.8814182,\"locID\":\"L1292195\",\"locName\":\"Cowley Walk-in Access\",\"locationPrivate\":false,\"obsDt\":\"2012-12-01 14:52\",\"obsReviewed\":false,\"obsValid\":true,\"sciName\":\"Charadrius vociferus\"},{\"comName\":\"Merlin\",\"howMany\":1,\"lat\":41.7511318,\"lng\":-111.8043423,\"locID\":\"L1804842\",\"locName\":\"E 1100 N and N 1200 E, Logan\",\"locationPrivate\":true,\"obsDt\":\"2012-12-01 14:47\",\"obsReviewed\":false,\"obsValid\":true,\"sciName\":\"Falco columbarius\"},{\"comName\":\"Black-capped Chickadee\",\"howMany\":1,\"lat\":41.7280851,\"lng\":-111.8729227,\"locID\":\"L1416484\",\"locName\":\"W 200 S Behind Landfill\",\"locationPrivate\":true,\"obsDt\":\"2012-12-01 14:30\",\"obsReviewed\":false,\"obsValid\":true,\"sciName\":\"Poecile atricapillus\"},{\"comName\":\"Eurasian Collared-Dove\",\"howMany\":17,\"lat\":41.8372115,\"lng\":-111.8244696,\"locID\":\"L605623\",\"locName\":\"Smithfield Cemetery/Mack Park\",\"locationPrivate\":false,\"obsDt\":\"2012-12-01 14:14\",\"obsReviewed\":false,\"obsValid\":true,\"sciName\":\"Streptopelia decaocto\"},{\"comName\":\"Townsend's Solitaire\",\"howMany\":1,\"lat\":41.8372115,\"lng\":-111.8244696,\"locID\":\"L605623\",\"locName\":\"Smithfield Cemetery/Mack Park\",\"locationPrivate\":false,\"obsDt\":\"2012-12-01 14:14\",\"obsReviewed\":false,\"obsValid\":true,\"sciName\":\"Myadestes townsendi\"},{\"comName\":\"American Crow\",\"howMany\":3,\"lat\":41.8372115,\"lng\":-111.8244696,\"locID\":\"L605623\",\"locName\":\"Smithfield Cemetery/Mack Park\",\"locationPrivate\":false,\"obsDt\":\"2012-12-01 14:14\",\"obsReviewed\":false,\"obsValid\":true,\"sciName\":\"Corvus brachyrhynchos\"},{\"comName\":\"Dark-eyed Junco\",\"howMany\":2,\"lat\":41.8372115,\"lng\":-111.8244696,\"locID\":\"L605623\",\"locName\":\"Smithfield Cemetery/Mack Park\",\"locationPrivate\":false,\"obsDt\":\"2012-12-01 14:14\",\"obsReviewed\":false,\"obsValid\":true,\"sciName\":\"Junco hyemalis\"},{\"comName\":\"Red Crossbill\",\"howMany\":2,\"lat\":41.8372115,\"lng\":-111.8244696,\"locID\":\"L605623\",\"locName\":\"Smithfield Cemetery/Mack Park\",\"locationPrivate\":false,\"obsDt\":\"2012-12-01 14:14\",\"obsReviewed\":false,\"obsValid\":true,\"sciName\":\"Loxia curvirostra\"},{\"comName\":\"Brown Creeper\",\"howMany\":2,\"lat\":41.8372115,\"lng\":-111.8244696,\"locID\":\"L605623\",\"locName\":\"Smithfield Cemetery/Mack Park\",\"locationPrivate\":false,\"obsDt\":\"2012-12-01 14:14\",\"obsReviewed\":false,\"obsValid\":true,\"sciName\":\"Certhia americana\"},{\"comName\":\"House Finch\",\"howMany\":10,\"lat\":41.8372115,\"lng\":-111.8244696,\"locID\":\"L605623\",\"locName\":\"Smithfield Cemetery/Mack Park\",\"locationPrivate\":false,\"obsDt\":\"2012-12-01 14:14\",\"obsReviewed\":false,\"obsValid\":true,\"sciName\":\"Haemorhous mexicanus\"},{\"comName\":\"Northern Flicker\",\"howMany\":5,\"lat\":41.8372115,\"lng\":-111.8244696,\"locID\":\"L605623\",\"locName\":\"Smithfield Cemetery/Mack Park\",\"locationPrivate\":false,\"obsDt\":\"2012-12-01 14:14\",\"obsReviewed\":false,\"obsValid\":true,\"sciName\":\"Colaptes auratus\"},{\"comName\":\"Green-winged Teal\",\"howMany\":7,\"lat\":41.7320355,\"lng\":-111.8809032,\"locID\":\"L586105\",\"locName\":\"Sue's Pond--Logan River Wetlands and Shorebird Playa\",\"locationPrivate\":false,\"obsDt\":\"2012-12-01 13:14\",\"obsReviewed\":false,\"obsValid\":true,\"sciName\":\"Anas crecca\"},{\"comName\":\"Ring-necked Duck\",\"howMany\":3,\"lat\":41.7320355,\"lng\":-111.8809032,\"locID\":\"L586105\",\"locName\":\"Sue's Pond--Logan River Wetlands and Shorebird Playa\",\"locationPrivate\":false,\"obsDt\":\"2012-12-01 13:14\",\"obsReviewed\":false,\"obsValid\":true,\"sciName\":\"Aythya collaris\"},{\"comName\":\"Lesser Scaup\",\"howMany\":1,\"lat\":41.7320355,\"lng\":-111.8809032,\"locID\":\"L586105\",\"locName\":\"Sue's Pond--Logan River Wetlands and Shorebird Playa\",\"locationPrivate\":false,\"obsDt\":\"2012-12-01 13:14\",\"obsReviewed\":false,\"obsValid\":true,\"sciName\":\"Aythya affinis\"},{\"comName\":\"Canvasback\",\"howMany\":2,\"lat\":41.7320355,\"lng\":-111.8809032,\"locID\":\"L586105\",\"locName\":\"Sue's Pond--Logan River Wetlands and Shorebird Playa\",\"locationPrivate\":false,\"obsDt\":\"2012-12-01 13:14\",\"obsReviewed\":false,\"obsValid\":true,\"sciName\":\"Aythya valisineria\"},{\"comName\":\"Northern Shoveler\",\"howMany\":3,\"lat\":41.7320355,\"lng\":-111.8809032,\"locID\":\"L586105\",\"locName\":\"Sue's Pond--Logan River Wetlands and Shorebird Playa\",\"locationPrivate\":false,\"obsDt\":\"2012-12-01 13:14\",\"obsReviewed\":false,\"obsValid\":true,\"sciName\":\"Anas clypeata\"},{\"comName\":\"Ruby-crowned Kinglet\",\"howMany\":1,\"lat\":41.8520804,\"lng\":-111.8327657,\"locID\":\"L1819387\",\"locName\":\"29 Oak St, Smithfield\",\"locationPrivate\":true,\"obsDt\":\"2012-12-01 12:50\",\"obsReviewed\":false,\"obsValid\":true,\"sciName\":\"Regulus calendula\"},{\"comName\":\"Wild Turkey\",\"howMany\":50,\"lat\":41.5260577,\"lng\":-111.8142128,\"locID\":\"L552807\",\"locName\":\"Avon\",\"locationPrivate\":false,\"obsDt\":\"2012-12-01 12:41\",\"obsReviewed\":false,\"obsValid\":true,\"sciName\":\"Meleagris gallopavo\"},{\"comName\":\"Red-breasted Nuthatch\",\"howMany\":1,\"lat\":41.7514044,\"lng\":-111.8220502,\"locID\":\"L454924\",\"locName\":\"1098 Crescent Dr\",\"locationPrivate\":true,\"obsDt\":\"2012-12-01 12:31\",\"obsReviewed\":false,\"obsValid\":true,\"sciName\":\"Sitta canadensis\"},{\"comName\":\"Redhead\",\"howMany\":5,\"lat\":41.924632,\"lng\":-111.8369579,\"locID\":\"L977843\",\"locName\":\"Richmond Sewage Lagoons\",\"locationPrivate\":false,\"obsDt\":\"2012-12-01 09:00\",\"obsReviewed\":false,\"obsValid\":true,\"sciName\":\"Aythya americana\"},{\"comName\":\"Gadwall\",\"howMany\":5,\"lat\":41.924632,\"lng\":-111.8369579,\"locID\":\"L977843\",\"locName\":\"Richmond Sewage Lagoons\",\"locationPrivate\":false,\"obsDt\":\"2012-12-01 09:00\",\"obsReviewed\":false,\"obsValid\":true,\"sciName\":\"Anas strepera\"},{\"comName\":\"American Wigeon\",\"howMany\":7,\"lat\":41.924632,\"lng\":-111.8369579,\"locID\":\"L977843\",\"locName\":\"Richmond Sewage Lagoons\",\"locationPrivate\":false,\"obsDt\":\"2012-12-01 09:00\",\"obsReviewed\":false,\"obsValid\":true,\"sciName\":\"Anas americana\"},{\"comName\":\"Common Goldeneye\",\"howMany\":4,\"lat\":41.924632,\"lng\":-111.8369579,\"locID\":\"L977843\",\"locName\":\"Richmond Sewage Lagoons\",\"locationPrivate\":false,\"obsDt\":\"2012-12-01 09:00\",\"obsReviewed\":false,\"obsValid\":true,\"sciName\":\"Bucephala clangula\"},{\"comName\":\"Northern Pintail\",\"howMany\":1,\"lat\":41.61963,\"lng\":-111.8595,\"locID\":\"L168383\",\"locName\":\"Hyrum Reservoir & SP\",\"locationPrivate\":false,\"obsDt\":\"2012-12-01 08:57\",\"obsReviewed\":false,\"obsValid\":true,\"sciName\":\"Anas acuta\"},{\"comName\":\"Ruddy Duck\",\"howMany\":1,\"lat\":41.61963,\"lng\":-111.8595,\"locID\":\"L168383\",\"locName\":\"Hyrum Reservoir & SP\",\"locationPrivate\":false,\"obsDt\":\"2012-12-01 08:57\",\"obsReviewed\":false,\"obsValid\":true,\"sciName\":\"Oxyura jamaicensis\"},{\"comName\":\"Lesser Goldfinch\",\"howMany\":11,\"lat\":41.61963,\"lng\":-111.8595,\"locID\":\"L168383\",\"locName\":\"Hyrum Reservoir & SP\",\"locationPrivate\":false,\"obsDt\":\"2012-12-01 08:57\",\"obsReviewed\":false,\"obsValid\":true,\"sciName\":\"Spinus psaltria\"},{\"comName\":\"Common Merganser\",\"howMany\":5,\"lat\":41.61963,\"lng\":-111.8595,\"locID\":\"L168383\",\"locName\":\"Hyrum Reservoir & SP\",\"locationPrivate\":false,\"obsDt\":\"2012-12-01 08:57\",\"obsReviewed\":false,\"obsValid\":true,\"sciName\":\"Mergus merganser\"},{\"comName\":\"Western Grebe\",\"howMany\":7,\"lat\":41.61963,\"lng\":-111.8595,\"locID\":\"L168383\",\"locName\":\"Hyrum Reservoir & SP\",\"locationPrivate\":false,\"obsDt\":\"2012-12-01 08:57\",\"obsReviewed\":false,\"obsValid\":true,\"sciName\":\"Aechmophorus occidentalis\"},{\"comName\":\"Great Blue Heron\",\"howMany\":6,\"lat\":41.61963,\"lng\":-111.8595,\"locID\":\"L168383\",\"locName\":\"Hyrum Reservoir & SP\",\"locationPrivate\":false,\"obsDt\":\"2012-12-01 08:57\",\"obsReviewed\":false,\"obsValid\":true,\"sciName\":\"Ardea herodias\"},{\"comName\":\"Belted Kingfisher\",\"howMany\":2,\"lat\":41.61963,\"lng\":-111.8595,\"locID\":\"L168383\",\"locName\":\"Hyrum Reservoir & SP\",\"locationPrivate\":false,\"obsDt\":\"2012-12-01 08:57\",\"obsReviewed\":false,\"obsValid\":true,\"sciName\":\"Megaceryle alcyon\"},{\"comName\":\"Barrow's Goldeneye\",\"howMany\":4,\"lat\":41.61963,\"lng\":-111.8595,\"locID\":\"L168383\",\"locName\":\"Hyrum Reservoir & SP\",\"locationPrivate\":false,\"obsDt\":\"2012-12-01 08:57\",\"obsReviewed\":false,\"obsValid\":true,\"sciName\":\"Bucephala islandica\"},{\"comName\":\"Bohemian Waxwing\",\"howMany\":16,\"lat\":41.8372115,\"lng\":-111.8244696,\"locID\":\"L605623\",\"locName\":\"Smithfield Cemetery/Mack Park\",\"locationPrivate\":false,\"obsDt\":\"2012-12-01 08:00\",\"obsReviewed\":false,\"obsValid\":true,\"sciName\":\"Bombycilla garrulus\"},{\"comName\":\"American Robin\",\"howMany\":1,\"lat\":41.7514044,\"lng\":-111.8220502,\"locID\":\"L454924\",\"locName\":\"1098 Crescent Dr\",\"locationPrivate\":true,\"obsDt\":\"2012-11-30 12:19\",\"obsReviewed\":false,\"obsValid\":true,\"sciName\":\"Turdus migratorius\"},{\"comName\":\"Cedar Waxwing\",\"howMany\":30,\"lat\":41.7091246,\"lng\":-111.9761109,\"locID\":\"L1107083\",\"locName\":\"Watkins Yard, Mendon, UT\",\"locationPrivate\":true,\"obsDt\":\"2012-11-30 12:15\",\"obsReviewed\":false,\"obsValid\":true,\"sciName\":\"Bombycilla cedrorum\"},{\"comName\":\"Downy Woodpecker\",\"howMany\":1,\"lat\":41.7091246,\"lng\":-111.9761109,\"locID\":\"L1107083\",\"locName\":\"Watkins Yard, Mendon, UT\",\"locationPrivate\":true,\"obsDt\":\"2012-11-30 12:15\",\"obsReviewed\":false,\"obsValid\":true,\"sciName\":\"Picoides pubescens\"},{\"comName\":\"Yellow-rumped Warbler\",\"howMany\":15,\"lat\":41.7434518,\"lng\":-111.8099213,\"locID\":\"L456643\",\"locName\":\"Utah State Univ. Campus\",\"locationPrivate\":false,\"obsDt\":\"2012-11-29 13:55\",\"obsReviewed\":false,\"obsValid\":true,\"sciName\":\"Setophaga coronata\"},{\"comName\":\"Mallard (Domestic type)\",\"howMany\":25,\"lat\":41.7422935,\"lng\":-111.7898228,\"locID\":\"L353707\",\"locName\":\"First Dam\",\"locationPrivate\":false,\"obsDt\":\"2012-11-29 11:25\",\"obsReviewed\":false,\"obsValid\":true,\"sciName\":\"Anas platyrhynchos (Domestic type)\"},{\"comName\":\"Hooded Merganser\",\"howMany\":2,\"lat\":41.7422935,\"lng\":-111.7898228,\"locID\":\"L353707\",\"locName\":\"First Dam\",\"locationPrivate\":false,\"obsDt\":\"2012-11-29 11:25\",\"obsReviewed\":false,\"obsValid\":true,\"sciName\":\"Lophodytes cucullatus\"},{\"comName\":\"Graylag Goose (Domestic type)\",\"howMany\":1,\"lat\":41.7422935,\"lng\":-111.7898228,\"locID\":\"L353707\",\"locName\":\"First Dam\",\"locationPrivate\":false,\"obsDt\":\"2012-11-29 11:25\",\"obsReviewed\":false,\"obsValid\":true,\"sciName\":\"Anser anser (Domestic type)\"},{\"comName\":\"Mountain Chickadee\",\"howMany\":1,\"lat\":41.8372115,\"lng\":-111.8244696,\"locID\":\"L605623\",\"locName\":\"Smithfield Cemetery/Mack Park\",\"locationPrivate\":false,\"obsDt\":\"2012-11-29 10:30\",\"obsReviewed\":false,\"obsValid\":true,\"sciName\":\"Poecile gambeli\"},{\"comName\":\"Pine Siskin\",\"howMany\":3,\"lat\":41.7514044,\"lng\":-111.8220502,\"locID\":\"L454924\",\"locName\":\"1098 Crescent Dr\",\"locationPrivate\":true,\"obsDt\":\"2012-11-29 09:54\",\"obsReviewed\":false,\"obsValid\":true,\"sciName\":\"Spinus pinus\"},{\"comName\":\"gull sp.\",\"howMany\":200,\"lat\":41.7320355,\"lng\":-111.8809032,\"locID\":\"L586105\",\"locName\":\"Sue's Pond--Logan River Wetlands and Shorebird Playa\",\"locationPrivate\":false,\"obsDt\":\"2012-11-28 16:10\",\"obsReviewed\":false,\"obsValid\":true,\"sciName\":\"Larinae sp.\"},{\"comName\":\"Golden-crowned Kinglet\",\"howMany\":1,\"lat\":41.8372115,\"lng\":-111.8244696,\"locID\":\"L605623\",\"locName\":\"Smithfield Cemetery/Mack Park\",\"locationPrivate\":false,\"obsDt\":\"2012-11-28 15:00\",\"obsReviewed\":false,\"obsValid\":true,\"sciName\":\"Regulus satrapa\"},{\"comName\":\"American Dipper\",\"howMany\":1,\"lat\":41.7536896,\"lng\":-111.7166984,\"locID\":\"L794452\",\"locName\":\"Logan Canyon -- Third Dam/Spring Hollow CG\",\"locationPrivate\":false,\"obsDt\":\"2012-11-27 16:54\",\"obsReviewed\":false,\"obsValid\":true,\"sciName\":\"Cinclus mexicanus\"},{\"comName\":\"Tundra Swan\",\"howMany\":2,\"lat\":41.8956649,\"lng\":-111.9734287,\"locID\":\"L519330\",\"locName\":\"Newton Reservoir\",\"locationPrivate\":false,\"obsDt\":\"2012-11-27 13:25\",\"obsReviewed\":false,\"obsValid\":true,\"sciName\":\"Cygnus columbianus\"},{\"comName\":\"sparrow sp.\",\"howMany\":1,\"lat\":41.8956649,\"lng\":-111.9734287,\"locID\":\"L519330\",\"locName\":\"Newton Reservoir\",\"locationPrivate\":false,\"obsDt\":\"2012-11-27 13:25\",\"obsReviewed\":false,\"obsValid\":true,\"sciName\":\"Emberizidae sp. (sparrow sp.)\"},{\"comName\":\"Red-breasted Merganser\",\"howMany\":1,\"lat\":41.8956649,\"lng\":-111.9734287,\"locID\":\"L519330\",\"locName\":\"Newton Reservoir\",\"locationPrivate\":false,\"obsDt\":\"2012-11-27 13:25\",\"obsReviewed\":false,\"obsValid\":true,\"sciName\":\"Mergus serrator\"},{\"comName\":\"White-breasted Nuthatch\",\"howMany\":1,\"lat\":41.8372115,\"lng\":-111.8244696,\"locID\":\"L605623\",\"locName\":\"Smithfield Cemetery/Mack Park\",\"locationPrivate\":false,\"obsDt\":\"2012-11-27 09:25\",\"obsReviewed\":false,\"obsValid\":true,\"sciName\":\"Sitta carolinensis\"},{\"comName\":\"Spotted Towhee\",\"howMany\":1,\"lat\":41.8372115,\"lng\":-111.8244696,\"locID\":\"L605623\",\"locName\":\"Smithfield Cemetery/Mack Park\",\"locationPrivate\":false,\"obsDt\":\"2012-11-27 09:25\",\"obsReviewed\":false,\"obsValid\":true,\"sciName\":\"Pipilo maculatus\"},{\"comName\":\"duck sp.\",\"howMany\":129,\"lat\":41.7391689,\"lng\":-111.7970467,\"locID\":\"L796665\",\"locName\":\"1575 Sumac Dr\",\"locationPrivate\":true,\"obsDt\":\"2012-11-26 17:08\",\"obsReviewed\":false,\"obsValid\":true,\"sciName\":\"Anatinae sp.\"},{\"comName\":\"White-throated Sparrow\",\"howMany\":1,\"lat\":41.7391689,\"lng\":-111.7970467,\"locID\":\"L796665\",\"locName\":\"1575 Sumac Dr\",\"locationPrivate\":true,\"obsDt\":\"2012-11-26 17:08\",\"obsReviewed\":true,\"obsValid\":true,\"sciName\":\"Zonotrichia albicollis\"},{\"comName\":\"Virginia Rail\",\"howMany\":2,\"lat\":41.7320355,\"lng\":-111.8809032,\"locID\":\"L586105\",\"locName\":\"Sue's Pond--Logan River Wetlands and Shorebird Playa\",\"locationPrivate\":false,\"obsDt\":\"2012-11-26 16:30\",\"obsReviewed\":false,\"obsValid\":true,\"sciName\":\"Rallus limicola\"},{\"comName\":\"Northern Shrike\",\"howMany\":1,\"lat\":41.7320355,\"lng\":-111.8809032,\"locID\":\"L586105\",\"locName\":\"Sue's Pond--Logan River Wetlands and Shorebird Playa\",\"locationPrivate\":false,\"obsDt\":\"2012-11-26 12:20\",\"obsReviewed\":false,\"obsValid\":true,\"sciName\":\"Lanius excubitor\"},{\"comName\":\"Blue Jay\",\"howMany\":1,\"lat\":41.8372115,\"lng\":-111.8244696,\"locID\":\"L605623\",\"locName\":\"Smithfield Cemetery/Mack Park\",\"locationPrivate\":false,\"obsDt\":\"2012-11-26 11:46\",\"obsReviewed\":true,\"obsValid\":true,\"sciName\":\"Cyanocitta cristata\"},{\"comName\":\"Anna's Hummingbird\",\"howMany\":1,\"lat\":41.8520804,\"lng\":-111.8327657,\"locID\":\"L1819387\",\"locName\":\"29 Oak St, Smithfield\",\"locationPrivate\":true,\"obsDt\":\"2012-11-26 10:58\",\"obsReviewed\":true,\"obsValid\":true,\"sciName\":\"Calypte anna\"},{\"comName\":\"California Quail\",\"howMany\":6,\"lat\":41.740738,\"lng\":-111.8050504,\"locID\":\"L824373\",\"locName\":\"Canal Trail\",\"locationPrivate\":false,\"obsDt\":\"2012-11-25 16:04\",\"obsReviewed\":false,\"obsValid\":true,\"sciName\":\"Callipepla californica\"},{\"comName\":\"Western Screech-Owl\",\"howMany\":1,\"lat\":41.740738,\"lng\":-111.8050504,\"locID\":\"L824373\",\"locName\":\"Canal Trail\",\"locationPrivate\":false,\"obsDt\":\"2012-11-25 16:04\",\"obsReviewed\":false,\"obsValid\":true,\"sciName\":\"Megascops kennicottii\"},{\"comName\":\"Cooper's Hawk\",\"howMany\":1,\"lat\":41.740738,\"lng\":-111.8050504,\"locID\":\"L824373\",\"locName\":\"Canal Trail\",\"locationPrivate\":false,\"obsDt\":\"2012-11-25 16:04\",\"obsReviewed\":false,\"obsValid\":true,\"sciName\":\"Accipiter cooperii\"},{\"comName\":\"Rock Pigeon\",\"howMany\":25,\"lat\":41.740738,\"lng\":-111.8050504,\"locID\":\"L824373\",\"locName\":\"Canal Trail\",\"locationPrivate\":false,\"obsDt\":\"2012-11-25 16:04\",\"obsReviewed\":false,\"obsValid\":true,\"sciName\":\"Columba livia\"},{\"comName\":\"Northern Pygmy-Owl\",\"howMany\":1,\"lat\":41.7536896,\"lng\":-111.7166984,\"locID\":\"L794452\",\"locName\":\"Logan Canyon -- Third Dam/Spring Hollow CG\",\"locationPrivate\":false,\"obsDt\":\"2012-11-25 12:40\",\"obsReviewed\":false,\"obsValid\":true,\"sciName\":\"Glaucidium gnoma\"},{\"comName\":\"Bohemian/Cedar Waxwing\",\"howMany\":40,\"lat\":41.733929,\"lng\":-111.8190783,\"locID\":\"L599383\",\"locName\":\"Preston Ave\",\"locationPrivate\":true,\"obsDt\":\"2012-11-24 07:45\",\"obsReviewed\":true,\"obsValid\":true,\"sciName\":\"Bombycilla garrulus/cedrorum\"},{\"comName\":\"Greater/Lesser Scaup\",\"howMany\":2,\"lat\":41.61963,\"lng\":-111.8595,\"locID\":\"L168383\",\"locName\":\"Hyrum Reservoir & SP\",\"locationPrivate\":false,\"obsDt\":\"2012-11-23 14:39\",\"obsReviewed\":false,\"obsValid\":true,\"sciName\":\"Aythya marila/affinis\"},{\"comName\":\"American Pipit\",\"howMany\":1,\"lat\":41.61963,\"lng\":-111.8595,\"locID\":\"L168383\",\"locName\":\"Hyrum Reservoir & SP\",\"locationPrivate\":false,\"obsDt\":\"2012-11-23 14:39\",\"obsReviewed\":false,\"obsValid\":true,\"sciName\":\"Anthus rubescens\"},{\"comName\":\"Horned Grebe\",\"howMany\":1,\"lat\":41.61963,\"lng\":-111.8595,\"locID\":\"L168383\",\"locName\":\"Hyrum Reservoir & SP\",\"locationPrivate\":false,\"obsDt\":\"2012-11-23 14:39\",\"obsReviewed\":false,\"obsValid\":true,\"sciName\":\"Podiceps auritus\"},{\"comName\":\"Clark's Grebe\",\"howMany\":1,\"lat\":41.61963,\"lng\":-111.8595,\"locID\":\"L168383\",\"locName\":\"Hyrum Reservoir & SP\",\"locationPrivate\":false,\"obsDt\":\"2012-11-23 14:39\",\"obsReviewed\":false,\"obsValid\":true,\"sciName\":\"Aechmophorus clarkii\"},{\"comName\":\"Common Loon\",\"howMany\":2,\"lat\":41.61963,\"lng\":-111.8595,\"locID\":\"L168383\",\"locName\":\"Hyrum Reservoir & SP\",\"locationPrivate\":false,\"obsDt\":\"2012-11-23 14:39\",\"obsReviewed\":false,\"obsValid\":true,\"sciName\":\"Gavia immer\"},{\"comName\":\"woodpecker sp.\",\"howMany\":1,\"lat\":41.61963,\"lng\":-111.8595,\"locID\":\"L168383\",\"locName\":\"Hyrum Reservoir & SP\",\"locationPrivate\":false,\"obsDt\":\"2012-11-23 14:39\",\"obsReviewed\":true,\"obsValid\":true,\"sciName\":\"Picidae sp.\"},{\"comName\":\"small falcon sp.\",\"howMany\":1,\"lat\":41.9633434,\"lng\":-111.8073061,\"locID\":\"L618371\",\"locName\":\"Cove\",\"locationPrivate\":true,\"obsDt\":\"2012-11-21 13:40\",\"obsReviewed\":true,\"obsValid\":true,\"sciName\":\"Falco sp. (small falcon sp.)\"},{\"comName\":\"Common/Barrow's Goldeneye\",\"howMany\":5,\"lat\":41.7422935,\"lng\":-111.7898228,\"locID\":\"L353707\",\"locName\":\"First Dam\",\"locationPrivate\":false,\"obsDt\":\"2012-11-21 08:59\",\"obsReviewed\":true,\"obsValid\":true,\"sciName\":\"Bucephala clangula/islandica\"},{\"comName\":\"Long-billed Dowitcher\",\"howMany\":4,\"lat\":41.7320355,\"lng\":-111.8809032,\"locID\":\"L586105\",\"locName\":\"Sue's Pond--Logan River Wetlands and Shorebird Playa\",\"locationPrivate\":false,\"obsDt\":\"2012-11-20 16:20\",\"obsReviewed\":true,\"obsValid\":true,\"sciName\":\"Limnodromus scolopaceus\"},{\"comName\":\"Evening Grosbeak\",\"howMany\":1,\"lat\":41.733929,\"lng\":-111.8190783,\"locID\":\"L599383\",\"locName\":\"Preston Ave\",\"locationPrivate\":true,\"obsDt\":\"2012-11-20 08:30\",\"obsReviewed\":false,\"obsValid\":true,\"sciName\":\"Coccothraustes vespertinus\"},{\"comName\":\"Accipiter sp.\",\"howMany\":1,\"lat\":41.733929,\"lng\":-111.8190783,\"locID\":\"L599383\",\"locName\":\"Preston Ave\",\"locationPrivate\":true,\"obsDt\":\"2012-11-19 14:41\",\"obsReviewed\":false,\"obsValid\":true,\"sciName\":\"Accipiter sp.\"},{\"comName\":\"Common Redpoll\",\"howMany\":1,\"lat\":41.733929,\"lng\":-111.8190783,\"locID\":\"L599383\",\"locName\":\"Preston Ave\",\"locationPrivate\":true,\"obsDt\":\"2012-11-19 14:15\",\"obsReviewed\":true,\"obsValid\":true,\"sciName\":\"Acanthis flammea\"},{\"comName\":\"Buteo sp.\",\"howMany\":3,\"lat\":41.7191196,\"lng\":-111.9449329,\"locID\":\"L1043840\",\"locName\":\"Mendon Road Management Area\",\"locationPrivate\":false,\"obsDt\":\"2012-11-19 10:24\",\"obsReviewed\":false,\"obsValid\":true,\"sciName\":\"Buteo sp.\"},{\"comName\":\"Hairy Woodpecker\",\"howMany\":1,\"lat\":41.7514044,\"lng\":-111.8220502,\"locID\":\"L454924\",\"locName\":\"1098 Crescent Dr\",\"locationPrivate\":true,\"obsDt\":\"2012-11-19 10:00\",\"obsReviewed\":false,\"obsValid\":true,\"sciName\":\"Picoides villosus\"},{\"comName\":\"Chukar\",\"howMany\":1,\"lat\":41.8519579,\"lng\":-111.7780987,\"locID\":\"L1404194\",\"locName\":\"Birch Canyon Rd\",\"locationPrivate\":false,\"obsDt\":\"2012-11-18 16:23\",\"obsReviewed\":false,\"obsValid\":true,\"sciName\":\"Alectoris chukar\"}]\n"
       ]
      }
     ],
     "prompt_number": 15
    },
    {
     "cell_type": "code",
     "collapsed": false,
     "input": [],
     "language": "python",
     "metadata": {},
     "outputs": []
    }
   ],
   "metadata": {}
  }
 ]
}