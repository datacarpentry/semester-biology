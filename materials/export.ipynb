{
 "cells": [
  {
   "cell_type": "markdown",
   "metadata": {},
   "source": [
    "Exporting data from Python\n",
    "==========================\n",
    "Delimited text\n",
    "--------------\n",
    "Exporting data from Python into delimited text files can be accomplished using a variety of modules. Here we'll focus on csv, numpy, and pandas."
   ]
  },
  {
   "cell_type": "markdown",
   "metadata": {},
   "source": [
    "### CSV\n",
    "To export using the csv module we:\n",
    "\n",
    "1. Open the output file\n",
    "2. Create a write object\n",
    "3. Write the rows to the data file (writerows() will write all of the lines at once, you can also use writerow() in a loop to write them one at a time)\n",
    "4. Close the output file"
   ]
  },
  {
   "cell_type": "code",
   "execution_count": 1,
   "metadata": {
    "collapsed": true
   },
   "outputs": [],
   "source": [
    "import csv\n",
    "\n",
    "data = [[1, 2, 3], [4, 5, 6], [7, 8, 9]]\n",
    "\n",
    "output_file = open('../data/examp-output.txt', 'w')\n",
    "datawriter = csv.writer(output_file)\n",
    "datawriter.writerows(data)\n",
    "output_file.close()"
   ]
  },
  {
   "cell_type": "markdown",
   "metadata": {},
   "source": [
    "### Numpy\n",
    "\n",
    "In Numpy the export is just a single line use savetxt()"
   ]
  },
  {
   "cell_type": "code",
   "execution_count": 2,
   "metadata": {
    "collapsed": false
   },
   "outputs": [],
   "source": [
    "import numpy as np\n",
    "\n",
    "data = [[1, 2, 3], [4, 5, 6], [7, 8, 9]]\n",
    "\n",
    "np.savetxt('../data/examp-output.txt', data, delimiter = ',')"
   ]
  },
  {
   "cell_type": "markdown",
   "metadata": {},
   "source": [
    "### Pandas\n",
    "Using Pandas, the data frame has a method to_csv that allows writing to delimited text. The default in Pandas is to include column names and the index and so the output is somewhat different for this example than the other approaches."
   ]
  },
  {
   "cell_type": "code",
   "execution_count": 3,
   "metadata": {
    "collapsed": true
   },
   "outputs": [],
   "source": [
    "import pandas as pd\n",
    "\n",
    "data = pd.DataFrame([[1, 2, 3], [4, 5, 6], [7, 8, 9]])\n",
    "data.to_csv('../data/examp-output.txt')"
   ]
  }
 ],
 "metadata": {
  "anaconda-cloud": {}
 },
 "nbformat": 4,
 "nbformat_minor": 0
}
