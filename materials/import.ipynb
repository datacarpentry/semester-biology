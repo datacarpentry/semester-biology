{
 "cells": [
  {
   "cell_type": "markdown",
   "metadata": {},
   "source": [
    "Importing delimited text files\n",
    "==============================\n",
    "Importing delimited text files can be accomplished using a variety of modules in Python. This notebook will cover pure python, the csv module, the numpy module and pandas."
   ]
  },
  {
   "cell_type": "markdown",
   "metadata": {},
   "source": [
    "Pure Python\n",
    "-----------\n",
    "In pure Python we:\n",
    "\n",
    "1. Open the datafile in read ('r') mode\n",
    "2. Create an empty list to store the data\n",
    "3. Loop over the rows in the file\n",
    "4. Getting rid of whitespace (.strip()) and splitting the row into a list based on the delimiter, in this case a comma (.split(',')).\n",
    "\n",
    "The types of the resulting items in the list of list will always be strings, so if you need something else it will have to be converted later."
   ]
  },
  {
   "cell_type": "code",
   "execution_count": 1,
   "metadata": {
    "collapsed": false
   },
   "outputs": [
    {
     "data": {
      "text/plain": [
       "[['x', ' y', ' z'],\n",
       " ['1', ' 2', ' 3'],\n",
       " ['2', ' 2.4', ' 6'],\n",
       " ['3', ' 1.9', ' 8']]"
      ]
     },
     "execution_count": 1,
     "metadata": {},
     "output_type": "execute_result"
    }
   ],
   "source": [
    "datafile = open('../data/examp-data.txt', 'r')\n",
    "data = []\n",
    "for row in datafile:\n",
    "    data.append(row.strip().split(','))\n",
    "data"
   ]
  },
  {
   "cell_type": "markdown",
   "metadata": {},
   "source": [
    "CSV Module\n",
    "----------\n",
    "In the csv module we:\n",
    "\n",
    "1. Open the datafile in read ('r') mode\n",
    "2. Create a reader object with that file, specifying the delimiter (the default is a comma, but it is explicitly specified here for clarity).\n",
    "3. Create an empty list to store the data\n",
    "4. Loop over the rows in the reader appending each row to the list\n",
    "\n",
    "The types of the resulting items in the list of list will always be strings, so if you need something else it will have to be converted later."
   ]
  },
  {
   "cell_type": "code",
   "execution_count": 2,
   "metadata": {
    "collapsed": false
   },
   "outputs": [
    {
     "data": {
      "text/plain": [
       "[['x', ' y', ' z'],\n",
       " ['1', ' 2', ' 3'],\n",
       " ['2', ' 2.4', ' 6'],\n",
       " ['3', ' 1.9', ' 8']]"
      ]
     },
     "execution_count": 2,
     "metadata": {},
     "output_type": "execute_result"
    }
   ],
   "source": [
    "import csv\n",
    "datafile = open('../data/examp-data.txt', 'r')\n",
    "datareader = csv.reader(datafile, delimiter=',')\n",
    "data = []\n",
    "for row in datareader:\n",
    "    data.append(row)\n",
    "data"
   ]
  },
  {
   "cell_type": "markdown",
   "metadata": {},
   "source": [
    "Using Numpy\n",
    "-----------\n",
    "Importing using Numpy will import the data into a Numpy array, a commonly used data structure for scientific programming.\n",
    "\n",
    "Using Numpy we simply use the genfromtxt() function to directly import the data. genfromtxt() has a lot of options for controlling what and how gets imported. See the docs page for details: http://docs.scipy.org/doc/numpy/reference/generated/numpy.genfromtxt.html\n",
    "\n",
    "Numpy will autodetect the data type, so we'll often want to leave off the header row(s) (skip_header=1). We could keep them using the names=True argument, and also columns with different data types, but that creates a structured array and if we want to work with that type of data we're typically better off using pandas (see below)."
   ]
  },
  {
   "cell_type": "code",
   "execution_count": 3,
   "metadata": {
    "collapsed": false
   },
   "outputs": [
    {
     "data": {
      "text/plain": [
       "array([[ 1. ,  2. ,  3. ],\n",
       "       [ 2. ,  2.4,  6. ],\n",
       "       [ 3. ,  1.9,  8. ]])"
      ]
     },
     "execution_count": 3,
     "metadata": {},
     "output_type": "execute_result"
    }
   ],
   "source": [
    "import numpy\n",
    "data = numpy.genfromtxt('../data/examp-data.txt', delimiter = ',', skip_header=1)\n",
    "data"
   ]
  },
  {
   "cell_type": "markdown",
   "metadata": {},
   "source": [
    "Pandas\n",
    "------\n",
    "Pandas is a powerful data management library that produces data structures and associated tools that are ideal for scientific computing tasks related to data. In particular, it produces a dataframe object that is much like R's dataframe and is designed to hold data with the standard structure of one row per record and one column per type of data (or field).\n",
    "\n",
    "In Pandas we just use the read_csv() function to import text files. It has a lot of options, but will do most things automatically including detecting delimiters and detecting data types."
   ]
  },
  {
   "cell_type": "code",
   "execution_count": 4,
   "metadata": {
    "collapsed": false
   },
   "outputs": [
    {
     "data": {
      "text/plain": [
       "   x   y    z\n",
       "0  1  2.0  3 \n",
       "1  2  2.4  6 \n",
       "2  3  1.9  8 "
      ]
     },
     "execution_count": 4,
     "metadata": {},
     "output_type": "execute_result"
    }
   ],
   "source": [
    "import pandas as pd\n",
    "data = pd.read_csv('../data/examp-data.txt')\n",
    "data"
   ]
  },
  {
   "cell_type": "markdown",
   "metadata": {},
   "source": [
    "Pandas dataframes do behave a bit differently than a lot of list based structures in Python, but we'll learn how to work with them soon. If you just want to pull the core data out of a dataframe you can do this using the values member (a member is just a variable associated with an object)."
   ]
  },
  {
   "cell_type": "code",
   "execution_count": 5,
   "metadata": {
    "collapsed": false
   },
   "outputs": [
    {
     "data": {
      "text/plain": [
       "array([[ 1. ,  2. ,  3. ],\n",
       "       [ 2. ,  2.4,  6. ],\n",
       "       [ 3. ,  1.9,  8. ]])"
      ]
     },
     "execution_count": 5,
     "metadata": {},
     "output_type": "execute_result"
    }
   ],
   "source": [
    "data.values"
   ]
  }
 ],
 "metadata": {
  "anaconda-cloud": {}
 },
 "nbformat": 4,
 "nbformat_minor": 0
}
