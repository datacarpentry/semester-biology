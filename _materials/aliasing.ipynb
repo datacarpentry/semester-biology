{
 "metadata": {
  "name": ""
 },
 "nbformat": 3,
 "nbformat_minor": 0,
 "worksheets": [
  {
   "cells": [
    {
     "cell_type": "heading",
     "level": 1,
     "metadata": {},
     "source": [
      "Aliasing"
     ]
    },
    {
     "cell_type": "code",
     "collapsed": false,
     "input": [
      "lista = [4, 2, 1, 3]\n",
      "listb = lista\n",
      "lista.sort()\n",
      "print lista\n",
      "print listb"
     ],
     "language": "python",
     "metadata": {},
     "outputs": [
      {
       "output_type": "stream",
       "stream": "stdout",
       "text": [
        "[1, 2, 3, 4]\n",
        "[1, 2, 3, 4]\n"
       ]
      }
     ],
     "prompt_number": 2
    },
    {
     "cell_type": "code",
     "collapsed": false,
     "input": [
      "print id(lista)\n",
      "print id(listb)"
     ],
     "language": "python",
     "metadata": {},
     "outputs": [
      {
       "output_type": "stream",
       "stream": "stdout",
       "text": [
        "140157595946952\n",
        "140157595946952\n"
       ]
      }
     ],
     "prompt_number": 4
    },
    {
     "cell_type": "code",
     "collapsed": false,
     "input": [
      "import numpy as np\n",
      "\n",
      "def get_sorted_cumsum(numbers):\n",
      "    numbers.sort()\n",
      "    cum_sum = np.cumsum(numbers)\n",
      "    return cum_sum\n",
      "\n",
      "mynumbers = [5, 2, 1, 3, 3, 2, 5, 4, 1, 1]\n",
      "sorted_cumsum = get_sorted_cumsum(mynumbers)\n",
      "print mynumbers"
     ],
     "language": "python",
     "metadata": {},
     "outputs": [
      {
       "output_type": "stream",
       "stream": "stdout",
       "text": [
        "[1, 1, 1, 2, 2, 3, 3, 4, 5, 5]\n"
       ]
      }
     ],
     "prompt_number": 6
    },
    {
     "cell_type": "code",
     "collapsed": false,
     "input": [
      "lista = [4, 2, 1, 3]\n",
      "listb = lista[:]\n",
      "lista.sort()\n",
      "print lista\n",
      "print listb"
     ],
     "language": "python",
     "metadata": {},
     "outputs": [
      {
       "output_type": "stream",
       "stream": "stdout",
       "text": [
        "[1, 2, 3, 4]\n",
        "[4, 2, 1, 3]\n"
       ]
      }
     ],
     "prompt_number": 7
    }
   ],
   "metadata": {}
  }
 ]
}